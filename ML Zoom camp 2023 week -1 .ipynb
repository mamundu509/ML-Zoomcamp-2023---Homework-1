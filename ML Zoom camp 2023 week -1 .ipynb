{
 "cells": [
  {
   "cell_type": "markdown",
   "id": "67f97675",
   "metadata": {},
   "source": [
    "### Question 1:"
   ]
  },
  {
   "cell_type": "code",
   "execution_count": 8,
   "id": "019773a2",
   "metadata": {},
   "outputs": [
    {
     "name": "stdout",
     "output_type": "stream",
     "text": [
      "2.1.0\n"
     ]
    }
   ],
   "source": [
    "import pandas as pd\n",
    "print(pd.__version__)"
   ]
  },
  {
   "cell_type": "code",
   "execution_count": 44,
   "id": "a646a565",
   "metadata": {},
   "outputs": [],
   "source": [
    "dataset=pd.read_csv(\"C:/Users/mamun/OneDrive/Desktop/Data_science_project/ML Zoomcamp/raw.githubusercontent.com_alexeygrigorev_datasets_master_housing.csv\")"
   ]
  },
  {
   "cell_type": "code",
   "execution_count": 45,
   "id": "af98bc88",
   "metadata": {},
   "outputs": [
    {
     "data": {
      "text/html": [
       "<div>\n",
       "<style scoped>\n",
       "    .dataframe tbody tr th:only-of-type {\n",
       "        vertical-align: middle;\n",
       "    }\n",
       "\n",
       "    .dataframe tbody tr th {\n",
       "        vertical-align: top;\n",
       "    }\n",
       "\n",
       "    .dataframe thead th {\n",
       "        text-align: right;\n",
       "    }\n",
       "</style>\n",
       "<table border=\"1\" class=\"dataframe\">\n",
       "  <thead>\n",
       "    <tr style=\"text-align: right;\">\n",
       "      <th></th>\n",
       "      <th>longitude</th>\n",
       "      <th>latitude</th>\n",
       "      <th>housing_median_age</th>\n",
       "      <th>total_rooms</th>\n",
       "      <th>total_bedrooms</th>\n",
       "      <th>population</th>\n",
       "      <th>households</th>\n",
       "      <th>median_income</th>\n",
       "      <th>median_house_value</th>\n",
       "      <th>ocean_proximity</th>\n",
       "    </tr>\n",
       "  </thead>\n",
       "  <tbody>\n",
       "    <tr>\n",
       "      <th>0</th>\n",
       "      <td>-122.23</td>\n",
       "      <td>37.88</td>\n",
       "      <td>41.0</td>\n",
       "      <td>880.0</td>\n",
       "      <td>129.0</td>\n",
       "      <td>322.0</td>\n",
       "      <td>126.0</td>\n",
       "      <td>8.3252</td>\n",
       "      <td>452600.0</td>\n",
       "      <td>NEAR BAY</td>\n",
       "    </tr>\n",
       "    <tr>\n",
       "      <th>1</th>\n",
       "      <td>-122.22</td>\n",
       "      <td>37.86</td>\n",
       "      <td>21.0</td>\n",
       "      <td>7099.0</td>\n",
       "      <td>1106.0</td>\n",
       "      <td>2401.0</td>\n",
       "      <td>1138.0</td>\n",
       "      <td>8.3014</td>\n",
       "      <td>358500.0</td>\n",
       "      <td>NEAR BAY</td>\n",
       "    </tr>\n",
       "    <tr>\n",
       "      <th>2</th>\n",
       "      <td>-122.24</td>\n",
       "      <td>37.85</td>\n",
       "      <td>52.0</td>\n",
       "      <td>1467.0</td>\n",
       "      <td>190.0</td>\n",
       "      <td>496.0</td>\n",
       "      <td>177.0</td>\n",
       "      <td>7.2574</td>\n",
       "      <td>352100.0</td>\n",
       "      <td>NEAR BAY</td>\n",
       "    </tr>\n",
       "    <tr>\n",
       "      <th>3</th>\n",
       "      <td>-122.25</td>\n",
       "      <td>37.85</td>\n",
       "      <td>52.0</td>\n",
       "      <td>1274.0</td>\n",
       "      <td>235.0</td>\n",
       "      <td>558.0</td>\n",
       "      <td>219.0</td>\n",
       "      <td>5.6431</td>\n",
       "      <td>341300.0</td>\n",
       "      <td>NEAR BAY</td>\n",
       "    </tr>\n",
       "    <tr>\n",
       "      <th>4</th>\n",
       "      <td>-122.25</td>\n",
       "      <td>37.85</td>\n",
       "      <td>52.0</td>\n",
       "      <td>1627.0</td>\n",
       "      <td>280.0</td>\n",
       "      <td>565.0</td>\n",
       "      <td>259.0</td>\n",
       "      <td>3.8462</td>\n",
       "      <td>342200.0</td>\n",
       "      <td>NEAR BAY</td>\n",
       "    </tr>\n",
       "  </tbody>\n",
       "</table>\n",
       "</div>"
      ],
      "text/plain": [
       "   longitude  latitude  housing_median_age  total_rooms  total_bedrooms  \\\n",
       "0    -122.23     37.88                41.0        880.0           129.0   \n",
       "1    -122.22     37.86                21.0       7099.0          1106.0   \n",
       "2    -122.24     37.85                52.0       1467.0           190.0   \n",
       "3    -122.25     37.85                52.0       1274.0           235.0   \n",
       "4    -122.25     37.85                52.0       1627.0           280.0   \n",
       "\n",
       "   population  households  median_income  median_house_value ocean_proximity  \n",
       "0       322.0       126.0         8.3252            452600.0        NEAR BAY  \n",
       "1      2401.0      1138.0         8.3014            358500.0        NEAR BAY  \n",
       "2       496.0       177.0         7.2574            352100.0        NEAR BAY  \n",
       "3       558.0       219.0         5.6431            341300.0        NEAR BAY  \n",
       "4       565.0       259.0         3.8462            342200.0        NEAR BAY  "
      ]
     },
     "execution_count": 45,
     "metadata": {},
     "output_type": "execute_result"
    }
   ],
   "source": [
    "dataset.head()"
   ]
  },
  {
   "cell_type": "markdown",
   "id": "5634cfa3",
   "metadata": {},
   "source": [
    "### Question 2:"
   ]
  },
  {
   "cell_type": "markdown",
   "id": "f42f11a8",
   "metadata": {},
   "source": [
    "#### How many columns are in the dataset?"
   ]
  },
  {
   "cell_type": "code",
   "execution_count": 46,
   "id": "bb6fd960",
   "metadata": {},
   "outputs": [
    {
     "name": "stdout",
     "output_type": "stream",
     "text": [
      "Number of columns: 10\n"
     ]
    }
   ],
   "source": [
    "# number of columns\n",
    "num_columns = dataset.shape[1]\n",
    "\n",
    "print(\"Number of columns:\", num_columns)"
   ]
  },
  {
   "cell_type": "markdown",
   "id": "116831f0",
   "metadata": {},
   "source": [
    "### Question 3:"
   ]
  },
  {
   "cell_type": "markdown",
   "id": "a23e05f0",
   "metadata": {},
   "source": [
    "#### Which columns in the dataset have missing values?"
   ]
  },
  {
   "cell_type": "code",
   "execution_count": 47,
   "id": "b9735240",
   "metadata": {},
   "outputs": [
    {
     "name": "stdout",
     "output_type": "stream",
     "text": [
      "Columns with missing values: ['total_bedrooms']\n"
     ]
    }
   ],
   "source": [
    "# Check which columns have missing values\n",
    "columns_with_missing_values = dataset.columns[dataset.isna().any()].tolist()\n",
    "\n",
    "print(\"Columns with missing values:\", columns_with_missing_values)"
   ]
  },
  {
   "cell_type": "markdown",
   "id": "a840bb5f",
   "metadata": {},
   "source": [
    "### Question 4\n",
    "#### How many unique values does the ocean_proximity column have?"
   ]
  },
  {
   "cell_type": "code",
   "execution_count": 61,
   "id": "b79f10d6",
   "metadata": {},
   "outputs": [
    {
     "name": "stdout",
     "output_type": "stream",
     "text": [
      "Number of unique values in 'ocean_proximity' column: 5\n"
     ]
    }
   ],
   "source": [
    "# unique values under the 'Category' column\n",
    "unique_values_count = dataset['ocean_proximity'].nunique()\n",
    "print(\"Number of unique values in 'ocean_proximity' column:\", unique_values_count)\n"
   ]
  },
  {
   "cell_type": "markdown",
   "id": "6f0f3a60",
   "metadata": {},
   "source": [
    "### Question 5\n",
    "#### What's the average value of the median_house_value for the houses located near the bay?"
   ]
  },
  {
   "cell_type": "code",
   "execution_count": 62,
   "id": "53f686a2",
   "metadata": {},
   "outputs": [
    {
     "name": "stdout",
     "output_type": "stream",
     "text": [
      "Median house value for houses near the bay: 259212.31179039303\n"
     ]
    }
   ],
   "source": [
    "# Filter the DataFrame to select houses near the bay\n",
    "near_bay_houses  = dataset[dataset['ocean_proximity'] == 'NEAR BAY']\n",
    "# Calculate the median house value for houses near the bay\n",
    "median_house_value_near_bay = near_bay_houses['median_house_value'].mean()\n",
    "\n",
    "print(\"Median house value for houses near the bay:\", median_house_value_near_bay)\n"
   ]
  },
  {
   "cell_type": "markdown",
   "id": "b04178a4",
   "metadata": {},
   "source": [
    "### Question 6\n",
    "##### Calculate the average of total_bedrooms column in the dataset.\n",
    "##### Use the fillna method to fill the missing values in total_bedrooms with the mean value from the previous step.\n",
    "##### Now, calculate the average of total_bedrooms again.\n",
    "##### Has it changed?"
   ]
  },
  {
   "cell_type": "code",
   "execution_count": 64,
   "id": "c08ae6e4",
   "metadata": {},
   "outputs": [
    {
     "name": "stdout",
     "output_type": "stream",
     "text": [
      "Original Average of 'total_bedrooms': 537.871\n",
      "Average of 'total_bedrooms' after filling missing values: 537.871\n",
      "The average hasn't changed after filling missing values.\n"
     ]
    }
   ],
   "source": [
    "# Calculate the original average of 'total_bedrooms'\n",
    "original_average = dataset['total_bedrooms'].mean()\n",
    "print(f\"Original Average of 'total_bedrooms': {original_average:.3f}\")\n",
    "\n",
    "# Fill missing values with the mean value\n",
    "mean_value = dataset['total_bedrooms'].mean()\n",
    "dataset['total_bedrooms'].fillna(mean_value, inplace=True)\n",
    "\n",
    "filled_dataset = dataset.copy()  # Create a copy of the original DataFrame\n",
    "filled_dataset['total_bedrooms'].fillna(mean_value, inplace=True)  # Fill missing values in the new DataFrame\n",
    "\n",
    "\n",
    "# Calculate the average of 'total_bedrooms' after filling missing values\n",
    "new_average = filled_dataset['total_bedrooms'].mean()\n",
    "print(f\"Average of 'total_bedrooms' after filling missing values: {new_average:.3f}\")\n",
    "\n",
    "# Compare the averages\n",
    "if original_average == new_average:\n",
    "    print(\"The average hasn't changed after filling missing values.\")\n",
    "else:\n",
    "    print(\"The average has changed after filling missing values.\")\n"
   ]
  },
  {
   "cell_type": "markdown",
   "id": "f9db8f95",
   "metadata": {},
   "source": [
    "### Question 7\n",
    "#### Select all the options located on islands.\n",
    "#### Select only columns housing_median_age, total_rooms, total_bedrooms.\n",
    "#### Get the underlying NumPy array. Let's call it X.\n",
    "#### Compute matrix-matrix multiplication between the transpose of X and X. To get the transpose, use X.T. Let's call the result XTX.\n",
    "#### Compute the inverse of XTX.\n",
    "#### Create an array y with values [950, 1300, 800, 1000, 1300].\n",
    "#### Multiply the inverse of XTX with the transpose of X, and then multiply the result by y. Call the result w.\n",
    "#### What's the value of the last element of w?"
   ]
  },
  {
   "cell_type": "code",
   "execution_count": 60,
   "id": "c7bd2abc",
   "metadata": {},
   "outputs": [
    {
     "name": "stdout",
     "output_type": "stream",
     "text": [
      "Value of the last element of w: 5.699229455065586\n"
     ]
    }
   ],
   "source": [
    "import numpy as np\n",
    "\n",
    "# Step 1: Select options located on islands\n",
    "island_options = dataset[dataset['ocean_proximity'] == 'ISLAND']\n",
    "\n",
    "# Step 2: Select specific columns\n",
    "selected_columns = island_options[['housing_median_age', 'total_rooms', 'total_bedrooms']]\n",
    "\n",
    "# Step 3: Get the underlying NumPy array (X)\n",
    "X = selected_columns.values\n",
    "\n",
    "# Step 4: Compute matrix-matrix multiplication X.T * X\n",
    "XTX = np.dot(X.T, X)\n",
    "\n",
    "# Step 5: Compute the inverse of XTX\n",
    "XTX_inverse = np.linalg.inv(XTX)\n",
    "\n",
    "# Step 6: Create an array y\n",
    "y = np.array([950, 1300, 800, 1000, 1300])\n",
    "\n",
    "# Step 7: Calculate w\n",
    "w = np.dot(np.dot(XTX_inverse, X.T), y)\n",
    "\n",
    "# Step 8: Get the last element of w\n",
    "last_element_of_w = w[-1]\n",
    "\n",
    "print(\"Value of the last element of w:\", last_element_of_w)\n"
   ]
  }
 ],
 "metadata": {
  "kernelspec": {
   "display_name": "Python 3 (ipykernel)",
   "language": "python",
   "name": "python3"
  },
  "language_info": {
   "codemirror_mode": {
    "name": "ipython",
    "version": 3
   },
   "file_extension": ".py",
   "mimetype": "text/x-python",
   "name": "python",
   "nbconvert_exporter": "python",
   "pygments_lexer": "ipython3",
   "version": "3.11.5"
  }
 },
 "nbformat": 4,
 "nbformat_minor": 5
}
